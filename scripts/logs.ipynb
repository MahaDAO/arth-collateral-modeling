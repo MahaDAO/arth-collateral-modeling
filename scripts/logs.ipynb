{
 "cells": [
  {
   "cell_type": "code",
   "execution_count": 1,
   "metadata": {},
   "outputs": [],
   "source": [
    "import pprint\n",
    "\n",
    "from tabulate import tabulate"
   ]
  },
  {
   "cell_type": "code",
   "execution_count": 2,
   "metadata": {},
   "outputs": [],
   "source": [
    "pp = pprint.PrettyPrinter(depth=6)"
   ]
  },
  {
   "cell_type": "code",
   "execution_count": 3,
   "metadata": {},
   "outputs": [],
   "source": [
    "def print_data_info(df_asset_name, raw_asset):\n",
    "    \"\"\"Print daataframe info\n",
    "\n",
    "    :param df_asset_name: Name of asset for which info is\n",
    "        being logged\n",
    "    :param raw_asset: Dataframe of the asset with date and\n",
    "        price\n",
    "    \"\"\"\n",
    "    \n",
    "    pp.pprint('Shape of data for {} is ({}, {})'.format(df_asset_name, \n",
    "                                                        *raw_asset.shape))\n",
    "    \n",
    "    pp.pprint('Null values for {} present: {}'.format(df_asset_name, \n",
    "                                                      raw_asset.isna().values.any()))\n",
    "    \n",
    "    pp.pprint('Data for {} ranges from {} to {}'.format(df_asset_name,\n",
    "                                                        raw_asset.iloc[0, 0].strftime('%Y-%m-%d'),\n",
    "                                                        raw_asset.iloc[-1, 0].strftime('%Y-%m-%d')))"
   ]
  },
  {
   "cell_type": "code",
   "execution_count": 4,
   "metadata": {},
   "outputs": [],
   "source": [
    "def print_vault_before_after(no_of_assets, initial_vault, vault):\n",
    "    \"\"\"Prints before-after of the simulation.\n",
    "    \n",
    "    :param initial_vault: Initial price, qty, pow. of vault.\n",
    "    :param vault: After simulation price, qty, pow of vault.\n",
    "    \"\"\"\n",
    "\n",
    "    vault_df = pd.DataFrame(index=[\n",
    "                            'Before buying pow.',\n",
    "                            'Before #buy',\n",
    "                            'Before #sell',\n",
    "                            'Before held qty.',\n",
    "                            'After buying pow.',\n",
    "                            'After #buy',\n",
    "                            'After #sell',\n",
    "                            'After held qty.'\n",
    "                        ])\n",
    "\n",
    "    for i in range(no_of_assets):\n",
    "        asset_name = vault[f'asset_{i+1}_name']\n",
    "\n",
    "        asset_vault_info = []\n",
    "        asset_vault_info.append(initial_vault[f'asset_{i+1}_buying_power'])\n",
    "        asset_vault_info.append(initial_vault[f'asset_{i+1}_buys'])\n",
    "        asset_vault_info.append(initial_vault[f'asset_{i+1}_sells'])\n",
    "        asset_vault_info.append(initial_vault[f'asset_{i+1}'])\n",
    "\n",
    "        asset_vault_info.append(vault[f'asset_{i+1}_buying_power'])\n",
    "        asset_vault_info.append(vault[f'asset_{i+1}_buys'])\n",
    "        asset_vault_info.append(vault[f'asset_{i+1}_sells'])\n",
    "        asset_vault_info.append(vault[f'asset_{i+1}'])\n",
    "\n",
    "        vault_df[asset_name] = asset_vault_info\n",
    "\n",
    "    return vault_df.head(vault_df.shape[0])"
   ]
  },
  {
   "cell_type": "code",
   "execution_count": 5,
   "metadata": {},
   "outputs": [],
   "source": [
    "def print_logs_in_tabular(simulation_logs):\n",
    "    \"\"\"Prints before-after of the simulation.\n",
    "    \n",
    "    :param initial_vault: Initial price, qty, pow. of vault.\n",
    "    :param vault: After simulation price, qty, pow of vault.\n",
    "    \"\"\"\n",
    "    \n",
    "    no_of_assets = simulation_logs['no_of_assets']\n",
    "    logs_df = pd.DataFrame()\n",
    "        \n",
    "    logs_df['Date'] = simulation_logs['date']\n",
    "    for i in range(no_of_assets):\n",
    "        asset_name = simulation_logs[f'asset_{i+1}_name']\n",
    "        logs_df[asset_name + '_Buying_Pow.'] = simulation_logs[f'asset_{i+1}_buying_power']\n",
    "        logs_df[asset_name + '_Held_Qty.'] = simulation_logs[f'asset_{i+1}']\n",
    "        logs_df[asset_name + '_Price'] = simulation_logs[f'asset_{i+1}_price']\n",
    "    \n",
    "    pd.set_option('display.max_rows', logs_df.shape[0])\n",
    "    pd.set_option('display.max_columns', 500)\n",
    "    logs_df = logs_df.set_index('Date')\n",
    "\n",
    "    return logs_df.head(logs_df.shape[0])"
   ]
  }
 ],
 "metadata": {
  "kernelspec": {
   "display_name": "Python 3",
   "language": "python",
   "name": "python3"
  },
  "language_info": {
   "codemirror_mode": {
    "name": "ipython",
    "version": 3
   },
   "file_extension": ".py",
   "mimetype": "text/x-python",
   "name": "python",
   "nbconvert_exporter": "python",
   "pygments_lexer": "ipython3",
   "version": "3.8.3"
  }
 },
 "nbformat": 4,
 "nbformat_minor": 4
}
