{
 "cells": [
  {
   "cell_type": "code",
   "execution_count": 1,
   "metadata": {},
   "outputs": [],
   "source": [
    "import pprint"
   ]
  },
  {
   "cell_type": "code",
   "execution_count": 2,
   "metadata": {},
   "outputs": [],
   "source": [
    "pp = pprint.PrettyPrinter(depth=6)"
   ]
  },
  {
   "cell_type": "code",
   "execution_count": 3,
   "metadata": {},
   "outputs": [],
   "source": [
    "def print_data_info(df_asset_name, raw_asset):\n",
    "    \"\"\"Print daataframe info\n",
    "\n",
    "    :param df_asset_name: Name of asset for which info is\n",
    "        being logged\n",
    "    :param raw_asset: Dataframe of the asset with date and\n",
    "        price\n",
    "    \"\"\"\n",
    "    \n",
    "    pp.pprint('Shape of data for {} is ({}, {})'.format(df_asset_name, \n",
    "                                                        *raw_asset.shape))\n",
    "    \n",
    "    pp.pprint('Null values for {} present: {}'.format(df_asset_name, \n",
    "                                                      raw_asset.isna().values.any()))\n",
    "    \n",
    "    pp.pprint('Data for {} ranges from {} to {}'.format(df_asset_name,\n",
    "                                                        raw_asset.iloc[0, 0].strftime('%Y-%m-%d'),\n",
    "                                                        raw_asset.iloc[-1, 0].strftime('%Y-%m-%d')))"
   ]
  }
 ],
 "metadata": {
  "kernelspec": {
   "display_name": "Python 3",
   "language": "python",
   "name": "python3"
  },
  "language_info": {
   "codemirror_mode": {
    "name": "ipython",
    "version": 3
   },
   "file_extension": ".py",
   "mimetype": "text/x-python",
   "name": "python",
   "nbconvert_exporter": "python",
   "pygments_lexer": "ipython3",
   "version": "3.8.3"
  }
 },
 "nbformat": 4,
 "nbformat_minor": 4
}
