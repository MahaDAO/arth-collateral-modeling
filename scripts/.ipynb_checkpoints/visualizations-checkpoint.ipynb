{
 "cells": [
  {
   "cell_type": "code",
   "execution_count": 1,
   "metadata": {},
   "outputs": [],
   "source": [
    "import numpy as np\n",
    "import matplotlib.pylab as pl\n",
    "import matplotlib.pyplot as plt\n",
    "import matplotlib.gridspec as gridspec"
   ]
  },
  {
   "cell_type": "code",
   "execution_count": 2,
   "metadata": {},
   "outputs": [],
   "source": [
    "%matplotlib inline"
   ]
  },
  {
   "cell_type": "code",
   "execution_count": 6,
   "metadata": {},
   "outputs": [],
   "source": [
    "def plot_multiple_assets_results(plot_data):\n",
    "    \"\"\"Plot data for each asset and vault.\n",
    "    \n",
    "    Plot held quantity, price and buying power of each asset and the\n",
    "    vault.\n",
    "\n",
    "    :param plot_data: Dictionary of simulation logs i.e each days price,\n",
    "    buying power and held quantity.\n",
    "    \"\"\"\n",
    "        \n",
    "    gs = gridspec.GridSpec(3, 2)\n",
    "\n",
    "    pl.figure(figsize=(10, 10))\n",
    "    pl.subplots_adjust(left=0, bottom=0, right=1, top=0.5, wspace=0.2, hspace=1)\n",
    "    \n",
    "    ax = pl.subplot(gs[0, :])\n",
    "    plt.title('Assets price')\n",
    "    for i in range(plot_data['no_of_assets']):\n",
    "        plt.plot(plot_data['date'], plot_data[f'asset_{i+1}_price'], label=plot_data[f'asset_{i+1}_name'])\n",
    "    ax.legend(loc='upper left', bbox_to_anchor=(1, 1))\n",
    "    \n",
    "    \n",
    "    ax = pl.subplot(gs[1, 0])\n",
    "    plt.title('Assets buying power')\n",
    "    for i in range(plot_data['no_of_assets']):\n",
    "        plt.plot(plot_data['date'], plot_data[f'asset_{i+1}_buying_power'], label=plot_data[f'asset_{i+1}_name'])\n",
    "    ax.legend(loc='upper left', bbox_to_anchor=(-0.5, 1))\n",
    "        \n",
    "    ax = pl.subplot(gs[1, 1])\n",
    "    plt.title('Assets held quantity')\n",
    "    for i in range(plot_data['no_of_assets']):\n",
    "        plt.plot(plot_data['date'], plot_data[f'asset_{i+1}'], label=plot_data[f'asset_{i+1}_name'])\n",
    "    ax.legend(loc='upper left', bbox_to_anchor=(1, 1))\n",
    "\n",
    "    ax = pl.subplot(gs[2, :])\n",
    "    plt.title('Vault Buying Power')\n",
    "    plt.plot(plot_data['date'], plot_data['vault_buying_power'], color='blue')"
   ]
  }
 ],
 "metadata": {
  "kernelspec": {
   "display_name": "Python 3",
   "language": "python",
   "name": "python3"
  },
  "language_info": {
   "codemirror_mode": {
    "name": "ipython",
    "version": 3
   },
   "file_extension": ".py",
   "mimetype": "text/x-python",
   "name": "python",
   "nbconvert_exporter": "python",
   "pygments_lexer": "ipython3",
   "version": "3.8.3"
  }
 },
 "nbformat": 4,
 "nbformat_minor": 4
}
