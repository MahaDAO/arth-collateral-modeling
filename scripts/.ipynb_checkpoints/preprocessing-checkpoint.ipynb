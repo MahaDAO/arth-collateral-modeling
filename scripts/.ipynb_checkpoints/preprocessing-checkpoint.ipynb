{
 "cells": [
  {
   "cell_type": "code",
   "execution_count": 1,
   "metadata": {},
   "outputs": [],
   "source": [
    "from functools import reduce\n",
    "\n",
    "import pandas"
   ]
  },
  {
   "cell_type": "code",
   "execution_count": 2,
   "metadata": {},
   "outputs": [],
   "source": [
    "%run logs.ipynb"
   ]
  },
  {
   "cell_type": "code",
   "execution_count": 3,
   "metadata": {},
   "outputs": [],
   "source": [
    "def get_df_data_within_range(df, from_date, to_date):\n",
    "    \"\"\"Get data within a time period\n",
    "\n",
    "    :param df: Dataframe with data\n",
    "    :param from_date: Date from which data is to be selected\n",
    "    :param to_date: Date till which(including) data is to be\n",
    "        selected\n",
    "    \"\"\"\n",
    "    \n",
    "    df = df[\n",
    "            (df['Date']>=from_date) & (df['Date']<=to_date)\n",
    "         ]\n",
    "    \n",
    "    df = df.sort_values(by='Date').reset_index(drop=True)\n",
    "\n",
    "    # print_data_info('Data-within-selected-range', df)\n",
    "    \n",
    "    return df"
   ]
  },
  {
   "cell_type": "code",
   "execution_count": 4,
   "metadata": {},
   "outputs": [],
   "source": [
    "def get_df_for_multiple_assets(*dfs):\n",
    "    \"\"\"Get list of dataframes\n",
    "\n",
    "    :param df: Dataframes\n",
    "    :return: Combined data of all received dataframes\n",
    "    \"\"\"\n",
    "        \n",
    "    raw_multiple_df = reduce(lambda left, right: pd.merge(left, right, how='outer', on='Date'), dfs)\n",
    "    \n",
    "    raw_multiple_df = raw_multiple_df.sort_values(by='Date').reset_index(drop=True)   \n",
    "    raw_multiple_df = raw_multiple_df.ffill(axis=0)\n",
    "    raw_multiple_df = raw_multiple_df.sort_values(by='Date').reset_index(drop=True)\n",
    "\n",
    "    raw_multiple_df['Date'] = pd.to_datetime(raw_multiple_df['Date'])\n",
    "    raw_multiple_df = raw_multiple_df.dropna()\n",
    "    \n",
    "    # print_data_info('Multiple-assets-df', raw_multiple_df)\n",
    "    \n",
    "    return raw_multiple_df"
   ]
  },
  {
   "cell_type": "code",
   "execution_count": 5,
   "metadata": {},
   "outputs": [],
   "source": [
    "def get_multiple_assets_df_list(df):\n",
    "    \"\"\"Get list of dataframe of assets.\n",
    "\n",
    "    :param df: Dataframe with combined data of all assets\n",
    "    :return: List of all invidual dataframe for all assets\n",
    "    \"\"\"\n",
    "    assets_df_list = []\n",
    "\n",
    "    for column in df.columns:\n",
    "        if 'Price' in column:\n",
    "            assets_df_list.append(df.loc[:, ['Date', column]])\n",
    "    \n",
    "    return assets_df_list"
   ]
  },
  {
   "cell_type": "code",
   "execution_count": 6,
   "metadata": {},
   "outputs": [],
   "source": [
    "def get_df_for_two_assets(asset_a_df, asset_b_df):\n",
    "    raw_df = asset_a_df.merge(asset_b_df, how='outer', left_on='Date', right_on='Date')\n",
    "\n",
    "    raw_df['Date'] = pd.to_datetime(raw_df['Date'])\n",
    "    raw_df = raw_df.sort_values(by='Date').reset_index(drop=True)\n",
    "    raw_df = raw_df.ffill(axis=0).sort_values(by='Date').reset_index(drop=True)\n",
    "    raw_df = raw_df.dropna()\n",
    "\n",
    "    # print_data_info('Two-assets-df', raw_df)\n",
    "    \n",
    "    return raw_df"
   ]
  }
 ],
 "metadata": {
  "kernelspec": {
   "display_name": "Python 3",
   "language": "python",
   "name": "python3"
  },
  "language_info": {
   "codemirror_mode": {
    "name": "ipython",
    "version": 3
   },
   "file_extension": ".py",
   "mimetype": "text/x-python",
   "name": "python",
   "nbconvert_exporter": "python",
   "pygments_lexer": "ipython3",
   "version": "3.8.3"
  }
 },
 "nbformat": 4,
 "nbformat_minor": 4
}
