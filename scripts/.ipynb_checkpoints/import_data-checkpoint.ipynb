{
 "cells": [
  {
   "cell_type": "code",
   "execution_count": 1,
   "metadata": {},
   "outputs": [],
   "source": [
    "import quandl\n",
    "import numpy as np\n",
    "import pandas as pd"
   ]
  },
  {
   "cell_type": "code",
   "execution_count": 2,
   "metadata": {},
   "outputs": [],
   "source": [
    "%run logs.ipynb"
   ]
  },
  {
   "cell_type": "code",
   "execution_count": 3,
   "metadata": {},
   "outputs": [],
   "source": [
    "def read_perth_daily_data(asset_name='AUD/USD'):\n",
    "    DATA_DIR = '../data/perth'\n",
    "    \n",
    "    if asset_name == 'AUD/USD':\n",
    "        raw_asset = pd.read_csv(f'{DATA_DIR}/PERTH-AUD_USD_D.csv')\n",
    "    \n",
    "    if asset_name == 'GOLD/USD':\n",
    "        raw_asset = pd.read_csv(f'{DATA_DIR}/PERTH-GOLD_USD_D.csv')\n",
    "    \n",
    "    if asset_name == 'PALL/USD':\n",
    "        raw_asset = pd.read_csv(f'{DATA_DIR}/PERTH-PALL_USD_D.csv')\n",
    "\n",
    "    df_asset_name = f'PERTH:{asset_name}:D'\n",
    "    \n",
    "    raw_asset = raw_asset.loc[:, ['Date', 'Bid Average']]\n",
    "    raw_asset['Date'] = pd.to_datetime(raw_asset['Date'])\n",
    "    raw_asset.columns = ['Date', f'Price_{asset_name}']\n",
    "\n",
    "    #print_data_info(df_asset_name, raw_asset)\n",
    "    \n",
    "    return raw_asset"
   ]
  },
  {
   "cell_type": "code",
   "execution_count": 4,
   "metadata": {},
   "outputs": [],
   "source": [
    "def read_yahoo_finance_daily_data(asset_name='S&P500'):\n",
    "    DATA_DIR = '../data/yf'\n",
    "    \n",
    "    if asset_name == 'S&P500':\n",
    "        raw_asset = pd.read_csv(f'{DATA_DIR}/YAHOO-S&P500_D.csv')\n",
    "    \n",
    "    if asset_name == 'SPY':\n",
    "        raw_asset = pd.read_csv(f'{DATA_DIR}/YAHOO-SPY_D.csv')\n",
    "        \n",
    "    df_asset_name = f'YAHOO:{asset_name}:D'\n",
    "    \n",
    "    raw_asset = raw_asset.loc[:, ['Date', 'Adj Close']]\n",
    "    raw_asset['Date'] = pd.to_datetime(raw_asset['Date'])\n",
    "    raw_asset.columns = ['Date', f'Price_{asset_name}']\n",
    "\n",
    "    #print_data_info(df_asset_name, raw_asset)\n",
    "    \n",
    "    return raw_asset"
   ]
  },
  {
   "cell_type": "code",
   "execution_count": 5,
   "metadata": {},
   "outputs": [],
   "source": [
    "def read_ecb_daily_data(asset_name='EUR/USD'):\n",
    "    DATA_DIR = '../data/ecb'\n",
    "    \n",
    "    if asset_name == 'EUR/USD':\n",
    "        raw_asset = pd.read_csv(f'{DATA_DIR}/ECB-EUR_USD_D.csv')\n",
    "        \n",
    "    df_asset_name = f'ECB:{asset_name}:D'\n",
    "    \n",
    "    raw_asset = raw_asset.loc[:, ['Date', 'Value']]\n",
    "    raw_asset['Date'] = pd.to_datetime(raw_asset['Date'])\n",
    "    raw_asset.columns = ['Date', f'Price_{asset_name}']\n",
    "\n",
    "    #print_data_info(df_asset_name, raw_asset)\n",
    "    \n",
    "    return raw_asset"
   ]
  }
 ],
 "metadata": {
  "kernelspec": {
   "display_name": "Python 3",
   "language": "python",
   "name": "python3"
  },
  "language_info": {
   "codemirror_mode": {
    "name": "ipython",
    "version": 3
   },
   "file_extension": ".py",
   "mimetype": "text/x-python",
   "name": "python",
   "nbconvert_exporter": "python",
   "pygments_lexer": "ipython3",
   "version": "3.8.2"
  }
 },
 "nbformat": 4,
 "nbformat_minor": 4
}
