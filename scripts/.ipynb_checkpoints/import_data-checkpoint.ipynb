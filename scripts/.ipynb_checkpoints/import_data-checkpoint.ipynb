{
 "cells": [
  {
   "cell_type": "code",
   "execution_count": 1,
   "metadata": {},
   "outputs": [],
   "source": [
    "import quandl\n",
    "import requests\n",
    "import numpy as np\n",
    "import pandas as pd"
   ]
  },
  {
   "cell_type": "code",
   "execution_count": 2,
   "metadata": {},
   "outputs": [],
   "source": [
    "%run logs.ipynb"
   ]
  },
  {
   "cell_type": "code",
   "execution_count": 3,
   "metadata": {},
   "outputs": [],
   "source": [
    "def read_perth_daily_data(asset_name='AUD/USD'):\n",
    "    \"\"\"Read csv data of PERTH gathered from quandl\n",
    "\n",
    "    :param asset_name: Name of asset for which data is to be read\n",
    "    :return: Daily price of requested asset\n",
    "    :rtype: pandas dataframe\n",
    "    \"\"\"\n",
    "    \n",
    "    DATA_DIR = '../data/perth'\n",
    "    \n",
    "    if asset_name == 'AUD/USD':\n",
    "        raw_asset = pd.read_csv(f'{DATA_DIR}/PERTH-AUD_USD_D.csv')\n",
    "    \n",
    "    if asset_name == 'GOLD/USD':\n",
    "        raw_asset = pd.read_csv(f'{DATA_DIR}/PERTH-GOLD_USD_D.csv')\n",
    "    \n",
    "    if asset_name == 'PALL/USD':\n",
    "        raw_asset = pd.read_csv(f'{DATA_DIR}/PERTH-PALL_USD_D.csv')\n",
    "\n",
    "    df_asset_name = f'PERTH:{asset_name}:D'\n",
    "    \n",
    "    raw_asset = raw_asset.loc[:, ['Date', 'Bid Average']]\n",
    "    raw_asset['Date'] = pd.to_datetime(raw_asset['Date']).dt.date\n",
    "    raw_asset.columns = ['Date', f'Price_{asset_name}']\n",
    "\n",
    "    # print_data_info(df_asset_name, raw_asset)\n",
    "    \n",
    "    return raw_asset.sort_values(by='Date').reset_index(drop=True)"
   ]
  },
  {
   "cell_type": "code",
   "execution_count": 4,
   "metadata": {},
   "outputs": [],
   "source": [
    "def read_yahoo_finance_daily_data(asset_name='S&P500'):\n",
    "    \"\"\"Read csv data gathered from YAHOO Finance\n",
    "\n",
    "    :param asset_name: Name of asset for which data is to be read\n",
    "    :return: Daily price of requested asset\n",
    "    :rtype: pandas dataframe\n",
    "    \"\"\"\n",
    "    \n",
    "    DATA_DIR = '../data/yf'\n",
    "    \n",
    "    if asset_name == 'S&P500':\n",
    "        raw_asset = pd.read_csv(f'{DATA_DIR}/YAHOO-S&P500_D.csv')\n",
    "    \n",
    "    if asset_name == 'SPY':\n",
    "        raw_asset = pd.read_csv(f'{DATA_DIR}/YAHOO-SPY_D.csv')\n",
    "        \n",
    "    df_asset_name = f'YAHOO:{asset_name}:D'\n",
    "    \n",
    "    raw_asset = raw_asset.loc[:, ['Date', 'Adj Close']]\n",
    "    raw_asset['Date'] = pd.to_datetime(raw_asset['Date']).dt.date\n",
    "    raw_asset.columns = ['Date', f'Price_{asset_name}']\n",
    "\n",
    "    # print_data_info(df_asset_name, raw_asset)\n",
    "    \n",
    "    return raw_asset.sort_values(by='Date').reset_index(drop=True)"
   ]
  },
  {
   "cell_type": "code",
   "execution_count": 5,
   "metadata": {},
   "outputs": [],
   "source": [
    "def read_ecb_daily_data(asset_name='EUR/USD'):\n",
    "    \"\"\"Read csv data of ECB gathered from quandl\n",
    "\n",
    "    :param asset_name: Name of asset for which data is to be read\n",
    "    :return: Daily price of requested asset\n",
    "    :rtype: pandas dataframe\n",
    "    \"\"\"\n",
    "        \n",
    "    DATA_DIR = '../data/ecb'\n",
    "    \n",
    "    if asset_name == 'EUR/USD':\n",
    "        raw_asset = pd.read_csv(f'{DATA_DIR}/ECB-EUR_USD_D.csv')\n",
    "        \n",
    "    df_asset_name = f'ECB:{asset_name}:D'\n",
    "    \n",
    "    raw_asset = raw_asset.loc[:, ['Date', 'Value']]\n",
    "    raw_asset['Date'] = pd.to_datetime(raw_asset['Date']).dt.date\n",
    "    raw_asset.columns = ['Date', f'Price_{asset_name}']\n",
    "\n",
    "    # print_data_info(df_asset_name, raw_asset)\n",
    "    \n",
    "    return raw_asset.sort_values(by='Date').reset_index(drop=True)"
   ]
  },
  {
   "cell_type": "code",
   "execution_count": 6,
   "metadata": {},
   "outputs": [],
   "source": [
    "def read_usd_historical_price_from_tickv2(asset_name='BTC/USD'):\n",
    "    \"\"\"Read crytpo assets daily price from tickv2.\n",
    "    \n",
    "    :param asset_name: Name of the crptocurrency\n",
    "    :return: Daily data of requested cryptoasset\n",
    "    \"\"\"\n",
    "    # end=1598918400000 according to common end date for all assets\n",
    "    if asset_name == 'BTC/USD':\n",
    "        data = requests.get('https://tickv2.cryptocontrol.io/assets/BTC'\n",
    "                            + '/historic-price-range?start=0&end=1598918400000')     \n",
    "    elif asset_name == 'ETH/USD':\n",
    "        data = requests.get('https://tickv2.cryptocontrol.io/assets/ETH'\n",
    "                            + '/historic-price-range?start=0&end=1598918400000')\n",
    "    elif asset_name == 'WBTC/USD':\n",
    "        data = requests.get('https://tickv2.cryptocontrol.io/assets/WBTC'\n",
    "                            + '/historic-price-range?start=0&end=1598918400000')\n",
    "\n",
    "    df_asset_name = f'TICKV2:{asset_name}:D'\n",
    "    df = pd.DataFrame(data.json())\n",
    "    \n",
    "    df['Date'] = pd.to_datetime(df['timestamp']).dt.date\n",
    "    df[f'Price_{asset_name}'] = df['closePriceQuote']\n",
    "    df = df.loc[:, ['Date', f'Price_{asset_name}']]\n",
    "    \n",
    "    return df.sort_values(by='Date').reset_index(drop=True)"
   ]
  }
 ],
 "metadata": {
  "kernelspec": {
   "display_name": "Python 3",
   "language": "python",
   "name": "python3"
  },
  "language_info": {
   "codemirror_mode": {
    "name": "ipython",
    "version": 3
   },
   "file_extension": ".py",
   "mimetype": "text/x-python",
   "name": "python",
   "nbconvert_exporter": "python",
   "pygments_lexer": "ipython3",
   "version": "3.8.3"
  }
 },
 "nbformat": 4,
 "nbformat_minor": 4
}
