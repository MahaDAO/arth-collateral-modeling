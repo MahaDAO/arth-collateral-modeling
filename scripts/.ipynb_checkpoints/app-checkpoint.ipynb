{
 "cells": [
  {
   "cell_type": "code",
   "execution_count": 1,
   "metadata": {},
   "outputs": [],
   "source": [
    "import math\n",
    "import pprint\n",
    "import datetime\n",
    "import numpy as np\n",
    "import pandas as pd\n",
    "from dateutil import parser\n",
    "import matplotlib.pylab as pl\n",
    "import matplotlib.pyplot as plt\n",
    "import matplotlib.gridspec as gridspec\n",
    "from pandas.tseries.offsets import BDay"
   ]
  },
  {
   "cell_type": "code",
   "execution_count": 2,
   "metadata": {},
   "outputs": [],
   "source": [
    "%matplotlib inline"
   ]
  },
  {
   "cell_type": "markdown",
   "metadata": {},
   "source": [
    "## Global variables"
   ]
  },
  {
   "cell_type": "code",
   "execution_count": 3,
   "metadata": {},
   "outputs": [],
   "source": [
    "DATA_DIR = '../data'\n",
    "IS_BUSINESS_DAY = BDay().is_on_offset\n",
    "\n",
    "STARTING_VAULT_AMOUNT = 2000\n",
    "PP = pprint.PrettyPrinter(depth=6)"
   ]
  },
  {
   "cell_type": "markdown",
   "metadata": {},
   "source": [
    "### Reading and basic preprocessing of data"
   ]
  },
  {
   "cell_type": "code",
   "execution_count": 4,
   "metadata": {},
   "outputs": [
    {
     "name": "stdout",
     "output_type": "stream",
     "text": [
      "There are 1341 values for XAU/CNY\n"
     ]
    }
   ],
   "source": [
    "raw_xau_cny = pd.read_csv(f'{DATA_DIR}/XAU_CNY_5Y.csv')\n",
    "raw_xau_cny = raw_xau_cny.iloc[:, [0, 1]]\n",
    "\n",
    "# The prices/numbers are in ',' seperated values.\n",
    "raw_xau_cny['Price'] = raw_xau_cny['Price'].str.replace(',', '').astype(float)\n",
    "\n",
    "raw_xau_cny['Date'] = pd.to_datetime(raw_xau_cny['Date'])\n",
    "raw_xau_cny = raw_xau_cny.sort_values(by=['Date']).reset_index(drop=True)\n",
    "\n",
    "print(f'There are {raw_xau_cny.shape[0]} values for XAU/CNY')"
   ]
  },
  {
   "cell_type": "code",
   "execution_count": 6,
   "metadata": {},
   "outputs": [
    {
     "name": "stdout",
     "output_type": "stream",
     "text": [
      "There are 1301 values for USD/CNY\n"
     ]
    }
   ],
   "source": [
    "raw_usd_cny = pd.read_csv(f'{DATA_DIR}/USD_CNY_5Y.csv')\n",
    "raw_usd_cny = raw_usd_cny.iloc[:, [0, 1]]\n",
    "\n",
    "raw_usd_cny['Date'] = pd.to_datetime(raw_usd_cny['Date'])\n",
    "raw_usd_cny = raw_usd_cny.sort_values(by=['Date']).reset_index(drop=True)\n",
    "\n",
    "print(f'There are {raw_usd_cny.shape[0]} values for USD/CNY')"
   ]
  },
  {
   "cell_type": "code",
   "execution_count": 7,
   "metadata": {},
   "outputs": [
    {
     "name": "stdout",
     "output_type": "stream",
     "text": [
      "Shape after preprocessing is :\n",
      "For XAU/CNY (1305, 2)\n",
      "For USD/CNY (1301, 2)\n"
     ]
    }
   ],
   "source": [
    "# Remove non-business days.\n",
    "xau_cny_valid_dates = raw_xau_cny['Date'].map(IS_BUSINESS_DAY)\n",
    "usd_cny_valid_dates = raw_usd_cny['Date'].map(IS_BUSINESS_DAY)\n",
    "\n",
    "# Select business dates data.\n",
    "xau_cny = raw_xau_cny[xau_cny_valid_dates].reset_index(drop=True)\n",
    "usd_cny = raw_usd_cny[usd_cny_valid_dates].reset_index(drop=True)\n",
    "\n",
    "print('Shape after preprocessing is :')\n",
    "print('For XAU/CNY', xau_cny.shape)\n",
    "print('For USD/CNY', usd_cny.shape)"
   ]
  },
  {
   "cell_type": "code",
   "execution_count": 35,
   "metadata": {},
   "outputs": [
    {
     "name": "stdout",
     "output_type": "stream",
     "text": [
      "Shape after sub setting is :\n",
      "For XAU/CNY (811, 2)\n",
      "For USD/CNY (776, 2)\n"
     ]
    }
   ],
   "source": [
    "start_date = pd.Timestamp('today').floor('D') + pd.Timedelta(-3* 365, unit='D')\n",
    "end_date = pd.Timestamp('today').floor('D') + pd.Timedelta(-0 * 365, unit='D')\n",
    "\n",
    "xau_cny = raw_xau_cny[(raw_xau_cny['Date']>=start_date) & (raw_xau_cny['Date']<=end_date)].reset_index(drop=True)\n",
    "usd_cny = raw_usd_cny[(raw_usd_cny['Date']>=start_date) & (raw_usd_cny['Date']<=end_date)].reset_index(drop=True)\n",
    "\n",
    "# xau_cny = xau_cny[(xau_cny['Date']>=start_date)].reset_index(drop=True)\n",
    "# usd_cny = usd_cny[(usd_cny['Date']>=start_date)].reset_index(drop=True)\n",
    "\n",
    "print('Shape after sub setting is :')\n",
    "print('For XAU/CNY', xau_cny.shape)\n",
    "print('For USD/CNY', usd_cny.shape)"
   ]
  },
  {
   "cell_type": "code",
   "execution_count": 36,
   "metadata": {
    "scrolled": true
   },
   "outputs": [
    {
     "name": "stdout",
     "output_type": "stream",
     "text": [
      "Start with values\n",
      "{'a': 0.11605815442001677,\n",
      " 'a_buying_power': 1000.0,\n",
      " 'b': 152.1097624045511,\n",
      " 'b_buying_power': 1000.0,\n",
      " 'vault': 2000}\n",
      "\n",
      "finished with 811 rebalances\n",
      "final buying power of the vault is 2586\n"
     ]
    }
   ],
   "source": [
    "def simulate_model_with_same_bp(A, B, ratio_a=0.5, ratio_b=0.5, starting_amount=2000):\n",
    "    if A.shape[0] < B.shape[0]: A, B = B, A\n",
    "    \n",
    "    a_prev = A.iloc[0, :]\n",
    "    b_prev = B.iloc[0, :]\n",
    "    \n",
    "    slippage = 0 # 5% slippage\n",
    "    sell_apr_percentage = 0.01 # sell off at most 1% of the appreciation over time\n",
    "    interval_days = 7 # recalcualte the buying power every X days\n",
    "    \n",
    "    counter = 0\n",
    "    \n",
    "    plot_data = {\n",
    "        'dates': [],\n",
    "        'vault': [],\n",
    "        'a': [],\n",
    "        'b': [],\n",
    "        'a_price': [],\n",
    "        'b_price': [],\n",
    "        'a_buying_power': [],\n",
    "        'b_buying_power': []\n",
    "    }\n",
    "    \n",
    "    START_CONFIG = {\n",
    "        'vault': starting_amount,\n",
    "        'a': 0,\n",
    "        'b': 0,\n",
    "        'a_buying_power': ratio_a * starting_amount,\n",
    "        'b_buying_power': ratio_b * starting_amount\n",
    "    }\n",
    "        \n",
    "    # a * a_price = a_buying_power\n",
    "\n",
    "    START_CONFIG['a'] = START_CONFIG.get('a_buying_power', 1000) / a_prev.Price\n",
    "    START_CONFIG['b'] = START_CONFIG.get('b_buying_power', 1000) / b_prev.Price\n",
    "\n",
    "    print('Start with values')\n",
    "    PP.pprint(START_CONFIG)\n",
    "    print()\n",
    "    \n",
    "    for i in A.index.to_list():\n",
    "        # Take the latest value or the last value.\n",
    "        if i < A.shape[0]: a = A.loc[i, :]\n",
    "        else: a = A.loc[A.index.to_list()[-1], :]\n",
    "\n",
    "        if i < B.shape[0]: b = B.loc[i, :]\n",
    "        else: b = B.loc[B.index.to_list()[-1], :]\n",
    "\n",
    "        # calculate old buying power\n",
    "        old_a_buying_power = START_CONFIG['a_buying_power']\n",
    "        old_b_buying_power = START_CONFIG['b_buying_power']\n",
    "        old_buying_power = old_a_buying_power + old_b_buying_power\n",
    "        \n",
    "        # calculate new buying power\n",
    "        new_a_buying_power = START_CONFIG['a'] * a.Price\n",
    "        new_b_buying_power = START_CONFIG['b'] * b.Price\n",
    "        \n",
    "        # check if the new buygin power has increased; only in which case do we rebalance\n",
    "        new_buying_power = (new_a_buying_power + new_b_buying_power) \n",
    "        \n",
    "        # now the target buying power should be something that maintains the ratio we \n",
    "        # have above.\n",
    "        target_buying_power = (new_a_buying_power + new_b_buying_power) / 2\n",
    "        \n",
    "        START_CONFIG['a_buying_power'] = target_buying_power\n",
    "        START_CONFIG['b_buying_power'] = target_buying_power\n",
    "\n",
    "        a_buying_power_diff = old_a_buying_power - target_buying_power\n",
    "        b_buying_power_diff = old_b_buying_power - target_buying_power\n",
    "        \n",
    "        buying_power_change = (new_buying_power - old_buying_power) / old_buying_power * 100\n",
    "\n",
    "        # Rebalance the assets.\n",
    "        slippage_multiplier = (1 - (slippage / 100))\n",
    "        counter += 1\n",
    "                \n",
    "        diff_a_b_buying_power = abs(new_a_buying_power - new_b_buying_power)\n",
    "        \n",
    "        new_a_balance = START_CONFIG['a']\n",
    "        new_b_balance = START_CONFIG['b']\n",
    "        \n",
    "#         print (old_buying_power, new_buying_power, START_CONFIG['a'], START_CONFIG['b'], old_a_buying_power, old_b_buying_power, new_a_buying_power, new_b_buying_power, diff_a_b_buying_power)\n",
    "        if (new_a_buying_power < new_b_buying_power):\n",
    "            # if A has more buying power then we sell `sell_apr_percentage`% of the profits in A and buy B\n",
    "            new_a_balance -= diff_a_b_buying_power / a.Price * slippage_multiplier * sell_apr_percentage\n",
    "            new_b_balance += diff_a_b_buying_power / b.Price * slippage_multiplier * sell_apr_percentage\n",
    "        else:\n",
    "            # and vice versa\n",
    "            new_a_balance -= diff_a_b_buying_power / a.Price * slippage_multiplier * sell_apr_percentage\n",
    "            new_b_balance += diff_a_b_buying_power / b.Price * slippage_multiplier * sell_apr_percentage\n",
    "\n",
    "        # don't do anything if there is no change in the buying power or if we sell assets or if the quantity \n",
    "        # one of the underlying goes to 0. Ideally we should make sure that we buy/sell as much so that the\n",
    "        # underlying does not get fully sold off.\n",
    "        if i & interval_days != 0 or(new_buying_power < old_buying_power) or new_a_balance <= 0 or new_b_balance <= 0:\n",
    "            plot_data['dates'].append(a.Date)\n",
    "            plot_data['vault'].append(new_buying_power)\n",
    "            plot_data['a'].append(START_CONFIG['a'])\n",
    "            plot_data['b'].append(START_CONFIG['b'])\n",
    "            plot_data['a_price'].append(a.Price)\n",
    "            plot_data['b_price'].append(b.Price)\n",
    "            plot_data['a_buying_power'].append(new_a_buying_power)\n",
    "            plot_data['b_buying_power'].append(new_b_buying_power)\n",
    "            continue\n",
    "\n",
    "        # Recalculate the vault balance.\n",
    "        START_CONFIG['a'] = new_a_balance\n",
    "        START_CONFIG['b'] = new_b_balance\n",
    "        START_CONFIG['vault'] = START_CONFIG.get('a_buying_power') + START_CONFIG.get('b_buying_power')\n",
    "        \n",
    "        plot_data['dates'].append(a.Date)\n",
    "        plot_data['vault'].append(START_CONFIG['vault'])\n",
    "        plot_data['a'].append(START_CONFIG['a'])\n",
    "        plot_data['b'].append(START_CONFIG['b'])\n",
    "        plot_data['a_price'].append(a.Price)\n",
    "        plot_data['b_price'].append(b.Price)\n",
    "        plot_data['a_buying_power'].append(new_a_buying_power)\n",
    "        plot_data['b_buying_power'].append(new_b_buying_power)\n",
    "#         print()\n",
    "#         PP.pprint(START_CONFIG)\n",
    "        \n",
    "        if (START_CONFIG['vault'] - starting_amount) / starting_amount <= -0.3: \n",
    "            print('Breaking')\n",
    "            break\n",
    "\n",
    "        a_prev, b_prev = a, b\n",
    "        \n",
    "    print(\"finished with %d rebalances\" % counter)\n",
    "    print(\"final buying power of the vault is %d\" % START_CONFIG['vault'])\n",
    "        \n",
    "    return plot_data, START_CONFIG\n",
    "\n",
    "plot_data, config = simulate_model_with_same_bp(usd_cny, xau_cny, 0.5, 0.5, STARTING_VAULT_AMOUNT)"
   ]
  },
  {
   "cell_type": "code",
   "execution_count": 37,
   "metadata": {},
   "outputs": [
    {
     "data": {
      "text/plain": [
       "[<matplotlib.lines.Line2D at 0x7f1fe41ef790>]"
      ]
     },
     "execution_count": 37,
     "metadata": {},
     "output_type": "execute_result"
    },
    {
     "data": {
      "image/png": "[encoded data removed]",
      "text/plain": [
       "<Figure size 576x576 with 7 Axes>"
      ]
     },
     "metadata": {
      "needs_background": "light"
     },
     "output_type": "display_data"
    }
   ],
   "source": [
    "gs = gridspec.GridSpec(5, 2)\n",
    "\n",
    "pl.figure(figsize=(8, 8))\n",
    "pl.subplots_adjust(left=0, bottom=0, right=1, top=1, wspace=0.2, hspace=1)\n",
    "\n",
    "ax = pl.subplot(gs[0,:]) # row 0, col 0\n",
    "plt.title('A Price')\n",
    "plt.plot(plot_data['dates'], plot_data['a_price'], color='blue')\n",
    "\n",
    "ax = pl.subplot(gs[1, 0]) # row 0, col 1\n",
    "plt.title('A buying power')\n",
    "plt.plot(plot_data['dates'], plot_data['a_buying_power'], color='blue')\n",
    "\n",
    "ax = pl.subplot(gs[1, 1]) # row 0, col 1\n",
    "plt.title('A held quantity')\n",
    "plt.plot(plot_data['dates'], plot_data['a'], color='blue')\n",
    "\n",
    "ax = pl.subplot(gs[2,:]) # row 0, col 0\n",
    "plt.title('B Price')\n",
    "plt.plot(plot_data['dates'], plot_data['b_price'], color='blue')\n",
    "\n",
    "ax = pl.subplot(gs[3, 0]) # row 0, col 1\n",
    "plt.title('B buying power')\n",
    "plt.plot(plot_data['dates'], plot_data['b_buying_power'], color='blue')\n",
    "\n",
    "ax = pl.subplot(gs[3, 1]) # row 0, col 1\n",
    "plt.title('B held quantity')\n",
    "plt.plot(plot_data['dates'], plot_data['b'], color='blue')\n",
    "\n",
    "ax = pl.subplot(gs[4, :]) # row 1, span all columns\n",
    "plt.title('Valut Buying Power')\n",
    "plt.plot(plot_data['dates'], plot_data['vault'], color='blue')"
   ]
  }
 ],
 "metadata": {
  "kernelspec": {
   "display_name": "Python 3",
   "language": "python",
   "name": "python3"
  },
  "language_info": {
   "codemirror_mode": {
    "name": "ipython",
    "version": 3
   },
   "file_extension": ".py",
   "mimetype": "text/x-python",
   "name": "python",
   "nbconvert_exporter": "python",
   "pygments_lexer": "ipython3",
   "version": "3.8.2"
  }
 },
 "nbformat": 4,
 "nbformat_minor": 4
}
