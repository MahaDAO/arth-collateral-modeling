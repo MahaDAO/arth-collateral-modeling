{
 "cells": [
  {
   "cell_type": "code",
   "execution_count": 1,
   "metadata": {},
   "outputs": [],
   "source": [
    "import pprint\n",
    "import numpy as np\n",
    "import pandas as pd\n",
    "from dateutil import parser\n",
    "import matplotlib.pyplot as plt\n",
    "from pandas.tseries.offsets import BDay"
   ]
  },
  {
   "cell_type": "code",
   "execution_count": 2,
   "metadata": {},
   "outputs": [],
   "source": [
    "%matplotlib inline"
   ]
  },
  {
   "cell_type": "markdown",
   "metadata": {},
   "source": [
    "## Global variables"
   ]
  },
  {
   "cell_type": "code",
   "execution_count": 3,
   "metadata": {},
   "outputs": [],
   "source": [
    "DATA_DIR = '../data'"
   ]
  },
  {
   "cell_type": "markdown",
   "metadata": {},
   "source": [
    "### Reading and basic preprocessing of data"
   ]
  },
  {
   "cell_type": "code",
   "execution_count": 4,
   "metadata": {},
   "outputs": [
    {
     "ename": "NameError",
     "evalue": "name 'usd_cny' is not defined",
     "output_type": "error",
     "traceback": [
      "\u001b[0;31m---------------------------------------------------------------------------\u001b[0m",
      "\u001b[0;31mNameError\u001b[0m                                 Traceback (most recent call last)",
      "\u001b[0;32m<ipython-input-4-3c0aa45c3b55>\u001b[0m in \u001b[0;36m<module>\u001b[0;34m\u001b[0m\n\u001b[1;32m      6\u001b[0m \u001b[0mxau_cny\u001b[0m \u001b[0;34m=\u001b[0m \u001b[0mxau_cny\u001b[0m\u001b[0;34m.\u001b[0m\u001b[0msort_values\u001b[0m\u001b[0;34m(\u001b[0m\u001b[0mby\u001b[0m\u001b[0;34m=\u001b[0m\u001b[0;34m[\u001b[0m\u001b[0;34m'Date'\u001b[0m\u001b[0;34m]\u001b[0m\u001b[0;34m)\u001b[0m\u001b[0;34m.\u001b[0m\u001b[0mreset_index\u001b[0m\u001b[0;34m(\u001b[0m\u001b[0mdrop\u001b[0m\u001b[0;34m=\u001b[0m\u001b[0;32mTrue\u001b[0m\u001b[0;34m)\u001b[0m\u001b[0;34m\u001b[0m\u001b[0;34m\u001b[0m\u001b[0m\n\u001b[1;32m      7\u001b[0m \u001b[0;34m\u001b[0m\u001b[0m\n\u001b[0;32m----> 8\u001b[0;31m \u001b[0mprint\u001b[0m\u001b[0;34m(\u001b[0m\u001b[0;34mf'There are {usd_cny.shape[0]} values for XAU/CNY\\n'\u001b[0m\u001b[0;34m)\u001b[0m\u001b[0;34m\u001b[0m\u001b[0;34m\u001b[0m\u001b[0m\n\u001b[0m\u001b[1;32m      9\u001b[0m \u001b[0mprint\u001b[0m\u001b[0;34m(\u001b[0m\u001b[0;34m'Head values \\n'\u001b[0m\u001b[0;34m,\u001b[0m \u001b[0musd_cny\u001b[0m\u001b[0;34m.\u001b[0m\u001b[0mtail\u001b[0m\u001b[0;34m(\u001b[0m\u001b[0;36m10\u001b[0m\u001b[0;34m)\u001b[0m\u001b[0;34m,\u001b[0m \u001b[0;34m'\\n'\u001b[0m\u001b[0;34m)\u001b[0m\u001b[0;34m\u001b[0m\u001b[0;34m\u001b[0m\u001b[0m\n\u001b[1;32m     10\u001b[0m \u001b[0mprint\u001b[0m\u001b[0;34m(\u001b[0m\u001b[0;34m'Tail values\\n'\u001b[0m\u001b[0;34m,\u001b[0m \u001b[0mxau_cny\u001b[0m\u001b[0;34m.\u001b[0m\u001b[0mtail\u001b[0m\u001b[0;34m(\u001b[0m\u001b[0;36m10\u001b[0m\u001b[0;34m)\u001b[0m\u001b[0;34m)\u001b[0m\u001b[0;34m\u001b[0m\u001b[0;34m\u001b[0m\u001b[0m\n",
      "\u001b[0;31mNameError\u001b[0m: name 'usd_cny' is not defined"
     ]
    }
   ],
   "source": [
    "xau_cny = pd.read_csv(f'{DATA_DIR}/XAU_CNY Historical Data.csv')\n",
    "xau_cny = xau_cny.iloc[:, [0, 1]]\n",
    "\n",
    "xau_cny['Price'] = xau_cny['Price'].str.replace(',', '').astype(float)\n",
    "\n",
    "xau_cny = xau_cny.sort_values(by=['Date']).reset_index(drop=True)\n",
    "\n",
    "print(f'There are {xau_cny.shape[0]} values for XAU/CNY\\n')\n",
    "print('Head values \\n', xau_cny.tail(10), '\\n')\n",
    "print('Tail values\\n', xau_cny.tail(10))"
   ]
  },
  {
   "cell_type": "code",
   "execution_count": null,
   "metadata": {},
   "outputs": [],
   "source": [
    "usd_cny = pd.read_csv(f'{DATA_DIR}/USD_CNY Historical Data.csv')\n",
    "usd_cny = usd_cny.iloc[:, [0, 1]]\n",
    "\n",
    "usd_cny = usd_cny.sort_values(by=['Date']).reset_index(drop=True)\n",
    "\n",
    "print(f'There are {usd_cny.shape[0]} values for XAU/CNY\\n')\n",
    "print('Head values \\n', usd_cny.tail(10), '\\n')\n",
    "print('Tail values\\n', xau_cny.tail(10))"
   ]
  },
  {
   "cell_type": "code",
   "execution_count": null,
   "metadata": {},
   "outputs": [],
   "source": [
    "isBusinessDay = BDay().onOffset\n",
    "\n",
    "d = pd.to_datetime(xau_cny['Date']).map(isBusinessDay)\n",
    "e = pd.to_datetime(usd_cny['Date']).map(isBusinessDay)"
   ]
  },
  {
   "cell_type": "code",
   "execution_count": null,
   "metadata": {},
   "outputs": [],
   "source": [
    "xay_cny = xau_cny.set_index('Date')"
   ]
  },
  {
   "cell_type": "code",
   "execution_count": null,
   "metadata": {},
   "outputs": [],
   "source": [
    "xau_cny = pd.to_datetime(xau_cny.index).map(isBusinessDay)"
   ]
  },
  {
   "cell_type": "code",
   "execution_count": null,
   "metadata": {},
   "outputs": [],
   "source": []
  },
  {
   "cell_type": "code",
   "execution_count": null,
   "metadata": {},
   "outputs": [],
   "source": [
    "if usd_cny.shape[0] > xau_cny.shape[0]:\n",
    "    A = usd_cny\n",
    "    B = xau_cny\n",
    "else:\n",
    "    B = usd_cny\n",
    "    A = xau_cny"
   ]
  },
  {
   "cell_type": "code",
   "execution_count": null,
   "metadata": {},
   "outputs": [],
   "source": [
    "START_CONFIG = {\n",
    "    'vault': 2000,\n",
    "    'a': 1000,\n",
    "    'b': 1000,\n",
    "    'abp': 0,\n",
    "    'bbp': 0\n",
    "}\n",
    "\n",
    "pp = pprint.PrettyPrinter(depth=6)"
   ]
  },
  {
   "cell_type": "code",
   "execution_count": null,
   "metadata": {},
   "outputs": [],
   "source": [
    "START_CONFIG['abp'] = START_CONFIG.get('a') / A.loc[0, 'Price']"
   ]
  },
  {
   "cell_type": "code",
   "execution_count": null,
   "metadata": {},
   "outputs": [],
   "source": [
    "START_CONFIG['bbp'] = START_CONFIG.get('b') / B.loc[0, 'Price']"
   ]
  },
  {
   "cell_type": "code",
   "execution_count": null,
   "metadata": {},
   "outputs": [],
   "source": [
    "START_CONFIG"
   ]
  },
  {
   "cell_type": "code",
   "execution_count": null,
   "metadata": {},
   "outputs": [],
   "source": [
    "a_prev = A.iloc[0, :]\n",
    "b_prev = B.iloc[0, :]\n",
    "\n",
    "for i in A.index.to_list():\n",
    "    # Take the latest value or the last value.\n",
    "    if i < A.shape[0]: a = A.loc[i, :]\n",
    "    else: a = A.loc[A.index.to_list()[-1], :]\n",
    "    \n",
    "    if i < B.shape[0]: b = B.loc[i, :]\n",
    "    else: b = B.loc[B.index.to_list()[-1], :]\n",
    "\n",
    "    if a_prev.Price == a.Price and b_prev.Price == b.Price: continue\n",
    "    \n",
    "    # Get the new CNY values.\n",
    "    new_config_a = START_CONFIG['abp'] * a.Price\n",
    "    new_config_b = START_CONFIG['bbp'] * b.Price\n",
    "    \n",
    "    # Calculate the change in indiviaul CNY values.\n",
    "    START_CONFIG['a'] = (new_config_a)\n",
    "    START_CONFIG['b'] = (new_config_b)\n",
    "    \n",
    "    # START_CONFIG['a'] = START_CONFIG['abp'] * a.Price\n",
    "    # START_CONFIG['b'] = START_CONFIG['bbp'] * b.Price\n",
    "    \n",
    "    # Calculate the diff between the 2 assets.\n",
    "    diff = START_CONFIG['a'] - START_CONFIG['b']\n",
    "    half_diff = diff / 2\n",
    "    \n",
    "    # Rebalance the assets.\n",
    "    if diff == 0: continue\n",
    "    else:\n",
    "        START_CONFIG['a'] -= half_diff\n",
    "        START_CONFIG['b'] += half_diff\n",
    "        \n",
    "    # Recalculate the buying power based on current price & current asset values.\n",
    "    START_CONFIG['abp'] = START_CONFIG.get('a') / a.Price\n",
    "    START_CONFIG['bbp'] = START_CONFIG.get('b') / b.Price\n",
    "    \n",
    "    # Recalculate the vault balance.\n",
    "    START_CONFIG['vault'] = START_CONFIG.get('a') + START_CONFIG.get('b')\n",
    "    \n",
    "    print()\n",
    "    pp.pprint({'Vault': START_CONFIG, 'Time': a.Date})\n",
    "    print()\n",
    "    \n",
    "    if (START_CONFIG['vault'] - 2000) / 2000 <= -0.09: print('Breaking'); break\n",
    "    \n",
    "    a_prev, b_prev = a, b"
   ]
  }
 ],
 "metadata": {
  "kernelspec": {
   "display_name": "Python 3",
   "language": "python",
   "name": "python3"
  },
  "language_info": {
   "codemirror_mode": {
    "name": "ipython",
    "version": 3
   },
   "file_extension": ".py",
   "mimetype": "text/x-python",
   "name": "python",
   "nbconvert_exporter": "python",
   "pygments_lexer": "ipython3",
   "version": "3.8.2"
  }
 },
 "nbformat": 4,
 "nbformat_minor": 4
}
