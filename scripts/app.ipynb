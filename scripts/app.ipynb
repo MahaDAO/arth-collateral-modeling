{
 "cells": [
  {
   "cell_type": "markdown",
   "metadata": {},
   "source": [
    "#### Import files and libraries"
   ]
  },
  {
   "cell_type": "code",
   "execution_count": null,
   "metadata": {},
   "outputs": [],
   "source": [
    "%run logs.ipynb\n",
    "%run models.ipynb\n",
    "%run import_data.ipynb\n",
    "%run preprocessing.ipynb\n",
    "%run visualizations.ipynb"
   ]
  },
  {
   "cell_type": "markdown",
   "metadata": {},
   "source": [
    "#### Read data"
   ]
  },
  {
   "cell_type": "code",
   "execution_count": null,
   "metadata": {},
   "outputs": [],
   "source": [
    "raw_asset_a = read_perth_daily_data(asset_name='AUD/USD')\n",
    "\n",
    "raw_asset_a.head()"
   ]
  },
  {
   "cell_type": "code",
   "execution_count": null,
   "metadata": {},
   "outputs": [],
   "source": [
    "raw_asset_b = read_perth_daily_data(asset_name='GOLD/USD')\n",
    "\n",
    "raw_asset_b.head()"
   ]
  },
  {
   "cell_type": "code",
   "execution_count": null,
   "metadata": {},
   "outputs": [],
   "source": [
    "raw_asset_c = read_yahoo_finance_daily_data(asset_name='SPY')\n",
    "\n",
    "raw_asset_c.head()"
   ]
  },
  {
   "cell_type": "code",
   "execution_count": null,
   "metadata": {},
   "outputs": [],
   "source": [
    "raw_asset_d = read_ecb_daily_data(asset_name='EUR/USD')\n",
    "\n",
    "raw_asset_d.head()"
   ]
  },
  {
   "cell_type": "code",
   "execution_count": null,
   "metadata": {},
   "outputs": [],
   "source": [
    "# two_assets_raw_df = get_df_for_two_assets(raw_asset_a, raw_asset_b)\n",
    "# print()\n",
    "multiple_assets_raw_df = get_df_for_multiple_assets(raw_asset_a, raw_asset_b,\n",
    "                                                    raw_asset_c, raw_asset_d)"
   ]
  },
  {
   "cell_type": "code",
   "execution_count": null,
   "metadata": {},
   "outputs": [],
   "source": [
    "start_date = pd.Timestamp('today').floor('D') + pd.Timedelta(-30* 365, unit='D') \n",
    "end_date = pd.Timestamp('today').floor('D') + pd.Timedelta(30, unit='D')"
   ]
  },
  {
   "cell_type": "code",
   "execution_count": null,
   "metadata": {},
   "outputs": [],
   "source": [
    "# two_assets_df = get_df_data_within_range(df=two_assets_raw_df, from_date=start_date, to_date=end_date)\n",
    "# print()\n",
    "\n",
    "multiple_assets_df = get_df_data_within_range(df=multiple_assets_raw_df, from_date=start_date, to_date=end_date)\n",
    "multiple_assets_df_list = get_multiple_assets_df_list(multiple_assets_df)"
   ]
  },
  {
   "cell_type": "markdown",
   "metadata": {},
   "source": [
    "#### Simulations"
   ]
  },
  {
   "cell_type": "code",
   "execution_count": null,
   "metadata": {},
   "outputs": [],
   "source": [
    "## USD and GOLD with a 50-50 ratio and slippage of 5% and 7 day rebalance interval\n",
    "simulation_logs = simulate_multiple_assets_vault(\n",
    "    multiple_assets_df_list,\n",
    "    [0.25] * 4,\n",
    "    starting_buying_power=2000,\n",
    "    slippage=0.01,\n",
    "    sell_apr_percentage=0.1,\n",
    "    rebalance_interval_days=7,\n",
    "    stop_sell=0.3,\n",
    "    buying_power_stoploss=0.3\n",
    ")\n",
    "\n",
    "plot_multiple_assets_results(simulation_logs)"
   ]
  },
  {
   "cell_type": "markdown",
   "metadata": {},
   "source": [
    "### More conditions: \n",
    "Status: TODO"
   ]
  },
  {
   "cell_type": "code",
   "execution_count": null,
   "metadata": {},
   "outputs": [],
   "source": [
    "## USD and GOLD with a 50-50 ratio and slippage of 5% and 7 day rebalance interval\n",
    "results, config = simulate_model(\n",
    "    df,\n",
    "    ratio_a=0.5,\n",
    "    ratio_b=0.5, \n",
    "    starting_buying_power=2000,\n",
    "    slippage=0.01,\n",
    "    sell_apr_percentage=0.1,\n",
    "    rebalance_interval_days=7,\n",
    "    stop_sell=0.3,\n",
    "    buying_power_stoploss=0.3\n",
    ")\n",
    "\n",
    "print(\"Ending with values\")\n",
    "PP.pprint(config)\n",
    "print()\n",
    "plot_results(results)"
   ]
  },
  {
   "cell_type": "code",
   "execution_count": null,
   "metadata": {},
   "outputs": [],
   "source": [
    "# USD and GOLD with a 50-50 ratio and slippage of 5% and 1 day rebalance interval; but selling 50% of \n",
    "# the appreciated side instead of 1%\n",
    "results, config = simulate_model(\n",
    "    df,\n",
    "    0.5,\n",
    "    0.5, \n",
    "    STARTING_VAULT_AMOUNT,\n",
    "    slippage=0.05,\n",
    "    rebalance_interval_days=1,\n",
    "    sell_apr_percentage=0.5\n",
    ")\n",
    "\n",
    "print(\"Ending with values\")\n",
    "PP.pprint(config)\n",
    "print()\n",
    "plot_results(results)"
   ]
  },
  {
   "cell_type": "code",
   "execution_count": null,
   "metadata": {},
   "outputs": [],
   "source": [
    "# USD and GOLD with a 50-50 ratio and slippage of 5% and 1 day rebalance interval; but selling 50% of \n",
    "# the appreciated side instead of 1%\n",
    "results, config = simulate_model(\n",
    "    df,\n",
    "    0.5,\n",
    "    0.5, \n",
    "    STARTING_VAULT_AMOUNT,\n",
    "    slippage=0.05,\n",
    "    rebalance_interval_days=1,\n",
    "    sell_apr_percentage=0.5\n",
    ")\n",
    "\n",
    "print(\"Ending with values\")\n",
    "PP.pprint(config)\n",
    "print()\n",
    "plot_results(results)\n",
    "\n",
    "# eventually we run out of one side of asset because we sell too much; \n",
    "# so we should ideally avoid this scenario.."
   ]
  },
  {
   "cell_type": "code",
   "execution_count": null,
   "metadata": {
    "scrolled": true
   },
   "outputs": [],
   "source": [
    "# USD and GOLD with a 50-50 ratio with no rebalancing\n",
    "results, config = simulate_model(\n",
    "    df,\n",
    "    0.5,\n",
    "    0.5, \n",
    "    STARTING_VAULT_AMOUNT,\n",
    "    slippage=0.05,\n",
    "    sell_apr_percentage=0\n",
    ")\n",
    "\n",
    "print(\"Ending with values\")\n",
    "PP.pprint(config)\n",
    "print()\n",
    "plot_results(results)"
   ]
  },
  {
   "cell_type": "code",
   "execution_count": null,
   "metadata": {},
   "outputs": [],
   "source": [
    "## USD and GOLD with a 50-50 ratio and slippage of 5% and 7 day rebalance interval\n",
    "results, config = simulate_model_test(\n",
    "    df,\n",
    "    ratio_a=0.5,\n",
    "    ratio_b=0.5, \n",
    "    starting_buying_power=2000,\n",
    "    slippage=0.01,\n",
    "    sell_apr_percentage=0.1,\n",
    "    rebalance_interval_days=7,\n",
    "    stop_sell=0.3,\n",
    "    buying_power_stoploss=0.3\n",
    ")\n",
    "\n",
    "print(\"Ending with values\")\n",
    "PP.pprint(config)\n",
    "print()\n",
    "plot_results(results)"
   ]
  },
  {
   "cell_type": "markdown",
   "metadata": {},
   "source": [
    "### Artificial Data Simulations:\n",
    "Status: TODO"
   ]
  },
  {
   "cell_type": "code",
   "execution_count": null,
   "metadata": {},
   "outputs": [],
   "source": [
    "# With one appreciating asset and one depreciating asset. The net result is on the positive.\n",
    "results, config = simulate_model(\n",
    "    appreciating_asset,\n",
    "    depreciating_asset,\n",
    "    0.5,\n",
    "    0.5, \n",
    "    STARTING_VAULT_AMOUNT\n",
    ")\n",
    "\n",
    "plot_results(results)"
   ]
  },
  {
   "cell_type": "code",
   "execution_count": null,
   "metadata": {},
   "outputs": [],
   "source": [
    "# With two depreciating assets. Really nothing we can do here. the\n",
    "# net loss in the vault is the averaged loss; Which shows the importance of\n",
    "# choosing two assets that are hedges of each other...\n",
    "\n",
    "results, config = simulate_model(\n",
    "    depreciating_asset,\n",
    "    depreciating_asset,\n",
    "    0.5,\n",
    "    0.5, \n",
    "    STARTING_VAULT_AMOUNT\n",
    ")\n",
    "\n",
    "plot_results(results)"
   ]
  }
 ],
 "metadata": {
  "kernelspec": {
   "display_name": "Python 3",
   "language": "python",
   "name": "python3"
  },
  "language_info": {
   "codemirror_mode": {
    "name": "ipython",
    "version": 3
   },
   "file_extension": ".py",
   "mimetype": "text/x-python",
   "name": "python",
   "nbconvert_exporter": "python",
   "pygments_lexer": "ipython3",
   "version": "3.8.3"
  }
 },
 "nbformat": 4,
 "nbformat_minor": 4
}
