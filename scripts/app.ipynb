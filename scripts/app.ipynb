{
 "cells": [
  {
   "cell_type": "code",
   "execution_count": 1,
   "metadata": {},
   "outputs": [],
   "source": [
    "import pprint\n",
    "import numpy as np\n",
    "import pandas as pd\n",
    "from dateutil import parser\n",
    "import matplotlib.pyplot as plt\n",
    "from pandas.tseries.offsets import BDay"
   ]
  },
  {
   "cell_type": "code",
   "execution_count": 2,
   "metadata": {},
   "outputs": [],
   "source": [
    "%matplotlib inline"
   ]
  },
  {
   "cell_type": "markdown",
   "metadata": {},
   "source": [
    "## Global variables"
   ]
  },
  {
   "cell_type": "code",
   "execution_count": 3,
   "metadata": {},
   "outputs": [],
   "source": [
    "DATA_DIR = '../data'\n",
    "IS_BUSINESS_DAY = BDay().onOffset"
   ]
  },
  {
   "cell_type": "markdown",
   "metadata": {},
   "source": [
    "### Reading and basic preprocessing of data"
   ]
  },
  {
   "cell_type": "code",
   "execution_count": 4,
   "metadata": {},
   "outputs": [
    {
     "name": "stdout",
     "output_type": "stream",
     "text": [
      "There are 1341 values for XAU/CNY\n",
      "\n",
      "Head values \n",
      "               Date     Price\n",
      "1331  Sep 28, 2015   7209.74\n",
      "1332  Sep 28, 2016   8820.61\n",
      "1333  Sep 28, 2017   8578.60\n",
      "1334  Sep 28, 2018   8188.29\n",
      "1335  Sep 29, 2015   7173.69\n",
      "1336  Sep 29, 2016   8803.44\n",
      "1337  Sep 29, 2017   8512.66\n",
      "1338  Sep 30, 2015   7087.91\n",
      "1339  Sep 30, 2016   8779.56\n",
      "1340  Sep 30, 2019  10525.23 \n",
      "\n",
      "Tail values\n",
      "               Date     Price\n",
      "1331  Sep 28, 2015   7209.74\n",
      "1332  Sep 28, 2016   8820.61\n",
      "1333  Sep 28, 2017   8578.60\n",
      "1334  Sep 28, 2018   8188.29\n",
      "1335  Sep 29, 2015   7173.69\n",
      "1336  Sep 29, 2016   8803.44\n",
      "1337  Sep 29, 2017   8512.66\n",
      "1338  Sep 30, 2015   7087.91\n",
      "1339  Sep 30, 2016   8779.56\n",
      "1340  Sep 30, 2019  10525.23\n"
     ]
    }
   ],
   "source": [
    "xau_cny = pd.read_csv(f'{DATA_DIR}/XAU_CNY_1Y.csv')\n",
    "xau_cny = xau_cny.iloc[:, [0, 1]]\n",
    "\n",
    "xau_cny['Price'] = xau_cny['Price'].str.replace(',', '').astype(float)\n",
    "\n",
    "xau_cny = xau_cny.sort_values(by=['Date']).reset_index(drop=True)\n",
    "\n",
    "print(f'There are {xau_cny.shape[0]} values for XAU/CNY\\n')\n",
    "print('Head values \\n', xau_cny.tail(10), '\\n')\n",
    "print('Tail values\\n', xau_cny.tail(10))"
   ]
  },
  {
   "cell_type": "code",
   "execution_count": 5,
   "metadata": {},
   "outputs": [
    {
     "name": "stdout",
     "output_type": "stream",
     "text": [
      "There are 1301 values for USD/CNY\n",
      "\n",
      "Head values \n",
      "               Date   Price\n",
      "1291  Sep 28, 2015  6.3688\n",
      "1292  Sep 28, 2016  6.6752\n",
      "1293  Sep 28, 2017  6.6640\n",
      "1294  Sep 28, 2018  6.8689\n",
      "1295  Sep 29, 2015  6.3636\n",
      "1296  Sep 29, 2016  6.6673\n",
      "1297  Sep 29, 2017  6.6534\n",
      "1298  Sep 30, 2015  6.3571\n",
      "1299  Sep 30, 2016  6.6716\n",
      "1300  Sep 30, 2019  7.1483 \n",
      "\n",
      "Tail values\n",
      "               Date     Price\n",
      "1331  Sep 28, 2015   7209.74\n",
      "1332  Sep 28, 2016   8820.61\n",
      "1333  Sep 28, 2017   8578.60\n",
      "1334  Sep 28, 2018   8188.29\n",
      "1335  Sep 29, 2015   7173.69\n",
      "1336  Sep 29, 2016   8803.44\n",
      "1337  Sep 29, 2017   8512.66\n",
      "1338  Sep 30, 2015   7087.91\n",
      "1339  Sep 30, 2016   8779.56\n",
      "1340  Sep 30, 2019  10525.23\n"
     ]
    }
   ],
   "source": [
    "usd_cny = pd.read_csv(f'{DATA_DIR}/USD_CNY_5Y.csv')\n",
    "usd_cny = usd_cny.iloc[:, [0, 1]]\n",
    "\n",
    "usd_cny = usd_cny.sort_values(by=['Date']).reset_index(drop=True)\n",
    "\n",
    "print(f'There are {usd_cny.shape[0]} values for USD/CNY\\n')\n",
    "print('Head values \\n', usd_cny.tail(10), '\\n')\n",
    "print('Tail values\\n', xau_cny.tail(10))"
   ]
  },
  {
   "cell_type": "code",
   "execution_count": null,
   "metadata": {},
   "outputs": [],
   "source": [
    "# Remove non-business days.\n",
    "xau_cny_valid_dates = pd.to_datetime(xau_cny['Date']).map(IS_BUSINESS_DAY)\n",
    "usd_cny_valid_dates = pd.to_datetime(usd_cny['Date']).map(IS_BUSINESS_DAY)\n",
    "\n",
    "# Select business dates data.\n",
    "xau_cny = xau_cny[xau_cny_valid_dates].reset_index(drop=True)\n",
    "usd_cny = usd_cny[usd_cny_valid_dates].reset_index(drop=True)\n",
    "\n",
    "print('Shape after preprocessing is :')\n",
    "print('For XAU/CNY', xau_cny.shape)\n",
    "print('For USD/CNY', usd_cny.shape)"
   ]
  },
  {
   "cell_type": "code",
   "execution_count": null,
   "metadata": {},
   "outputs": [],
   "source": []
  },
  {
   "cell_type": "code",
   "execution_count": null,
   "metadata": {},
   "outputs": [],
   "source": [
    "if usd_cny.shape[0] > xau_cny.shape[0]:\n",
    "    A = usd_cny\n",
    "    B = xau_cny\n",
    "else:\n",
    "    B = usd_cny\n",
    "    A = xau_cny"
   ]
  },
  {
   "cell_type": "code",
   "execution_count": null,
   "metadata": {},
   "outputs": [],
   "source": [
    "START_CONFIG = {\n",
    "    'vault': 2000,\n",
    "    'a': 1000,\n",
    "    'b': 1000,\n",
    "    'abp': 0,\n",
    "    'bbp': 0\n",
    "}\n",
    "\n",
    "pp = pprint.PrettyPrinter(depth=6)"
   ]
  },
  {
   "cell_type": "code",
   "execution_count": null,
   "metadata": {},
   "outputs": [],
   "source": [
    "START_CONFIG['abp'] = START_CONFIG.get('a') / A.loc[0, 'Price']"
   ]
  },
  {
   "cell_type": "code",
   "execution_count": null,
   "metadata": {},
   "outputs": [],
   "source": [
    "START_CONFIG['bbp'] = START_CONFIG.get('b') / B.loc[0, 'Price']"
   ]
  },
  {
   "cell_type": "code",
   "execution_count": null,
   "metadata": {},
   "outputs": [],
   "source": [
    "START_CONFIG"
   ]
  },
  {
   "cell_type": "code",
   "execution_count": null,
   "metadata": {},
   "outputs": [],
   "source": [
    "a_prev = A.iloc[0, :]\n",
    "b_prev = B.iloc[0, :]\n",
    "\n",
    "for i in A.index.to_list():\n",
    "    # Take the latest value or the last value.\n",
    "    if i < A.shape[0]: a = A.loc[i, :]\n",
    "    else: a = A.loc[A.index.to_list()[-1], :]\n",
    "    \n",
    "    if i < B.shape[0]: b = B.loc[i, :]\n",
    "    else: b = B.loc[B.index.to_list()[-1], :]\n",
    "\n",
    "    if a_prev.Price == a.Price and b_prev.Price == b.Price: continue\n",
    "    \n",
    "    # Get the new CNY values.\n",
    "    new_config_a = START_CONFIG['abp'] * a.Price\n",
    "    new_config_b = START_CONFIG['bbp'] * b.Price\n",
    "    \n",
    "    # Calculate the change in indiviaul CNY values.\n",
    "    START_CONFIG['a'] = (new_config_a)\n",
    "    START_CONFIG['b'] = (new_config_b)\n",
    "    \n",
    "    # START_CONFIG['a'] = START_CONFIG['abp'] * a.Price\n",
    "    # START_CONFIG['b'] = START_CONFIG['bbp'] * b.Price\n",
    "    \n",
    "    # Calculate the diff between the 2 assets.\n",
    "    diff = START_CONFIG['a'] - START_CONFIG['b']\n",
    "    half_diff = diff / 2\n",
    "    \n",
    "    # Rebalance the assets.\n",
    "    if diff == 0: continue\n",
    "    else:\n",
    "        START_CONFIG['a'] -= half_diff\n",
    "        START_CONFIG['b'] += half_diff\n",
    "        \n",
    "    # Recalculate the buying power based on current price & current asset values.\n",
    "    START_CONFIG['abp'] = START_CONFIG.get('a') / a.Price\n",
    "    START_CONFIG['bbp'] = START_CONFIG.get('b') / b.Price\n",
    "    \n",
    "    # Recalculate the vault balance.\n",
    "    START_CONFIG['vault'] = START_CONFIG.get('a') + START_CONFIG.get('b')\n",
    "    \n",
    "    print()\n",
    "    pp.pprint({'Vault': START_CONFIG, 'Time': a.Date})\n",
    "    print()\n",
    "    \n",
    "    if (START_CONFIG['vault'] - 2000) / 2000 <= -0.09: print('Breaking'); break\n",
    "    \n",
    "    a_prev, b_prev = a, b"
   ]
  }
 ],
 "metadata": {
  "kernelspec": {
   "display_name": "Python 3",
   "language": "python",
   "name": "python3"
  },
  "language_info": {
   "codemirror_mode": {
    "name": "ipython",
    "version": 3
   },
   "file_extension": ".py",
   "mimetype": "text/x-python",
   "name": "python",
   "nbconvert_exporter": "python",
   "pygments_lexer": "ipython3",
   "version": "3.8.2"
  }
 },
 "nbformat": 4,
 "nbformat_minor": 4
}
