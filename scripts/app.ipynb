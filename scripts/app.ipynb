{
 "cells": [
  {
   "cell_type": "code",
   "execution_count": 1,
   "metadata": {},
   "outputs": [],
   "source": [
    "import pprint\n",
    "import numpy as np\n",
    "import pandas as pd\n",
    "from dateutil import parser\n",
    "import matplotlib.pyplot as plt\n",
    "from pandas.tseries.offsets import BDay"
   ]
  },
  {
   "cell_type": "code",
   "execution_count": 2,
   "metadata": {},
   "outputs": [],
   "source": [
    "%matplotlib inline"
   ]
  },
  {
   "cell_type": "markdown",
   "metadata": {},
   "source": [
    "## Global variables"
   ]
  },
  {
   "cell_type": "code",
   "execution_count": 3,
   "metadata": {},
   "outputs": [],
   "source": [
    "DATA_DIR = '../data'\n",
    "IS_BUSINESS_DAY = BDay().onOffset"
   ]
  },
  {
   "cell_type": "markdown",
   "metadata": {},
   "source": [
    "### Reading and basic preprocessing of data"
   ]
  },
  {
   "cell_type": "code",
   "execution_count": 4,
   "metadata": {},
   "outputs": [
    {
     "name": "stdout",
     "output_type": "stream",
     "text": [
      "There are 1341 values for XAU/CNY\n",
      "\n",
      "Head values \n",
      "         Date    Price\n",
      "0 2015-09-14  7062.32\n",
      "1 2015-09-15  7040.48\n",
      "2 2015-09-16  7131.97\n",
      "3 2015-09-17  7203.44\n",
      "4 2015-09-18  7249.60\n",
      "5 2015-09-21  7218.10\n",
      "6 2015-09-22  7170.84\n",
      "7 2015-09-23  7215.85\n",
      "8 2015-09-24  7366.36\n",
      "9 2015-09-25  7306.23 \n",
      "\n",
      "Tail values\n",
      "            Date     Price\n",
      "1331 2020-09-02  13281.11\n",
      "1332 2020-09-03  13209.95\n",
      "1333 2020-09-04  13227.38\n",
      "1334 2020-09-07  13173.86\n",
      "1335 2020-09-08  13216.03\n",
      "1336 2020-09-09  13292.67\n",
      "1337 2020-09-10  13298.35\n",
      "1338 2020-09-11  13253.90\n",
      "1339 2020-09-13  13277.80\n",
      "1340 2020-09-14  13286.51\n"
     ]
    }
   ],
   "source": [
    "xau_cny = pd.read_csv(f'{DATA_DIR}/XAU_CNY Historical Data.csv')\n",
    "xau_cny = xau_cny.iloc[:, [0, 1]]\n",
    "\n",
    "xau_cny['Price'] = xau_cny['Price'].str.replace(',', '').astype(float)\n",
    "\n",
    "xau_cny['Date'] = pd.to_datetime(xau_cny['Date'])\n",
    "xau_cny = xau_cny.sort_values(by=['Date']).reset_index(drop=True)\n",
    "\n",
    "print(f'There are {xau_cny.shape[0]} values for XAU/CNY\\n')\n",
    "print('Head values \\n', xau_cny.head(10), '\\n')\n",
    "print('Tail values\\n', xau_cny.tail(10))"
   ]
  },
  {
   "cell_type": "code",
   "execution_count": 5,
   "metadata": {},
   "outputs": [
    {
     "name": "stdout",
     "output_type": "stream",
     "text": [
      "There are 1301 values for USD/CNY\n",
      "\n",
      "Head values \n",
      "         Date   Price\n",
      "0 2015-09-14  6.3679\n",
      "1 2015-09-15  6.3700\n",
      "2 2015-09-16  6.3709\n",
      "3 2015-09-17  6.3660\n",
      "4 2015-09-18  6.3643\n",
      "5 2015-09-21  6.3691\n",
      "6 2015-09-22  6.3760\n",
      "7 2015-09-23  6.3837\n",
      "8 2015-09-24  6.3833\n",
      "9 2015-09-25  6.3741 \n",
      "\n",
      "Tail values\n",
      "            Date     Price\n",
      "1331 2020-09-02  13281.11\n",
      "1332 2020-09-03  13209.95\n",
      "1333 2020-09-04  13227.38\n",
      "1334 2020-09-07  13173.86\n",
      "1335 2020-09-08  13216.03\n",
      "1336 2020-09-09  13292.67\n",
      "1337 2020-09-10  13298.35\n",
      "1338 2020-09-11  13253.90\n",
      "1339 2020-09-13  13277.80\n",
      "1340 2020-09-14  13286.51\n"
     ]
    }
   ],
   "source": [
    "usd_cny = pd.read_csv(f'{DATA_DIR}/USD_CNY Historical Data.csv')\n",
    "usd_cny = usd_cny.iloc[:, [0, 1]]\n",
    "\n",
    "usd_cny['Date'] = pd.to_datetime(usd_cny['Date'])\n",
    "usd_cny = usd_cny.sort_values(by=['Date']).reset_index(drop=True)\n",
    "\n",
    "print(f'There are {usd_cny.shape[0]} values for USD/CNY\\n')\n",
    "print('Head values \\n', usd_cny.head(10), '\\n')\n",
    "print('Tail values\\n', xau_cny.tail(10))"
   ]
  },
  {
   "cell_type": "code",
   "execution_count": 6,
   "metadata": {},
   "outputs": [
    {
     "name": "stdout",
     "output_type": "stream",
     "text": [
      "Shape after preprocessing is :\n",
      "For XAU/CNY (1305, 2)\n",
      "For USD/CNY (1301, 2)\n"
     ]
    },
    {
     "name": "stderr",
     "output_type": "stream",
     "text": [
      "/home/yash/.local/lib/python3.8/site-packages/pandas/core/base.py:1160: FutureWarning: onOffset is a deprecated, use is_on_offset instead\n",
      "  new_values = map_f(values, mapper)\n"
     ]
    }
   ],
   "source": [
    "# Remove non-business days.\n",
    "xau_cny_valid_dates = xau_cny['Date'].map(IS_BUSINESS_DAY)\n",
    "usd_cny_valid_dates = usd_cny['Date'].map(IS_BUSINESS_DAY)\n",
    "\n",
    "# Select business dates data.\n",
    "xau_cny = xau_cny[xau_cny_valid_dates].reset_index(drop=True)\n",
    "usd_cny = usd_cny[usd_cny_valid_dates].reset_index(drop=True)\n",
    "\n",
    "print('Shape after preprocessing is :')\n",
    "print('For XAU/CNY', xau_cny.shape)\n",
    "print('For USD/CNY', usd_cny.shape)"
   ]
  },
  {
   "cell_type": "code",
   "execution_count": null,
   "metadata": {},
   "outputs": [],
   "source": [
    "if usd_cny.shape[0] > xau_cny.shape[0]:\n",
    "    A = usd_cny\n",
    "    B = xau_cny\n",
    "else:\n",
    "    B = usd_cny\n",
    "    A = xau_cny"
   ]
  },
  {
   "cell_type": "code",
   "execution_count": null,
   "metadata": {},
   "outputs": [],
   "source": [
    "START_CONFIG = {\n",
    "    'vault': 2000,\n",
    "    'a': 1000,\n",
    "    'b': 1000,\n",
    "    'abp': 0,\n",
    "    'bbp': 0\n",
    "}\n",
    "\n",
    "pp = pprint.PrettyPrinter(depth=6)"
   ]
  },
  {
   "cell_type": "code",
   "execution_count": null,
   "metadata": {},
   "outputs": [],
   "source": [
    "START_CONFIG['abp'] = START_CONFIG.get('a') / A.loc[0, 'Price']"
   ]
  },
  {
   "cell_type": "code",
   "execution_count": null,
   "metadata": {},
   "outputs": [],
   "source": [
    "START_CONFIG['bbp'] = START_CONFIG.get('b') / B.loc[0, 'Price']"
   ]
  },
  {
   "cell_type": "code",
   "execution_count": null,
   "metadata": {},
   "outputs": [],
   "source": [
    "START_CONFIG"
   ]
  },
  {
   "cell_type": "code",
   "execution_count": null,
   "metadata": {},
   "outputs": [],
   "source": [
    "a_prev = A.iloc[0, :]\n",
    "b_prev = B.iloc[0, :]\n",
    "\n",
    "for i in A.index.to_list():\n",
    "    # Take the latest value or the last value.\n",
    "    if i < A.shape[0]: a = A.loc[i, :]\n",
    "    else: a = A.loc[A.index.to_list()[-1], :]\n",
    "    \n",
    "    if i < B.shape[0]: b = B.loc[i, :]\n",
    "    else: b = B.loc[B.index.to_list()[-1], :]\n",
    "\n",
    "    if a_prev.Price == a.Price and b_prev.Price == b.Price: continue\n",
    "    \n",
    "    # Get the new CNY values.\n",
    "    new_config_a = START_CONFIG['abp'] * a.Price\n",
    "    new_config_b = START_CONFIG['bbp'] * b.Price\n",
    "    \n",
    "    # Calculate the change in indiviaul CNY values.\n",
    "    START_CONFIG['a'] = (new_config_a)\n",
    "    START_CONFIG['b'] = (new_config_b)\n",
    "    \n",
    "    # START_CONFIG['a'] = START_CONFIG['abp'] * a.Price\n",
    "    # START_CONFIG['b'] = START_CONFIG['bbp'] * b.Price\n",
    "    \n",
    "    # Calculate the diff between the 2 assets.\n",
    "    diff = START_CONFIG['a'] - START_CONFIG['b']\n",
    "    half_diff = diff / 2\n",
    "    \n",
    "    # Rebalance the assets.\n",
    "    if diff == 0: continue\n",
    "    else:\n",
    "        START_CONFIG['a'] -= half_diff\n",
    "        START_CONFIG['b'] += half_diff\n",
    "        \n",
    "    # Recalculate the buying power based on current price & current asset values.\n",
    "    START_CONFIG['abp'] = START_CONFIG.get('a') / a.Price\n",
    "    START_CONFIG['bbp'] = START_CONFIG.get('b') / b.Price\n",
    "    \n",
    "    # Recalculate the vault balance.\n",
    "    START_CONFIG['vault'] = START_CONFIG.get('a') + START_CONFIG.get('b')\n",
    "    \n",
    "    print()\n",
    "    pp.pprint({'Vault': START_CONFIG, 'Time': a.Date})\n",
    "    print()\n",
    "    \n",
    "    if (START_CONFIG['vault'] - 2000) / 2000 <= -0.09: print('Breaking'); break\n",
    "    \n",
    "    a_prev, b_prev = a, b"
   ]
  },
  {
   "cell_type": "code",
   "execution_count": null,
   "metadata": {},
   "outputs": [],
   "source": []
  }
 ],
 "metadata": {
  "kernelspec": {
   "display_name": "Python 3",
   "language": "python",
   "name": "python3"
  },
  "language_info": {
   "codemirror_mode": {
    "name": "ipython",
    "version": 3
   },
   "file_extension": ".py",
   "mimetype": "text/x-python",
   "name": "python",
   "nbconvert_exporter": "python",
   "pygments_lexer": "ipython3",
   "version": "3.8.2"
  }
 },
 "nbformat": 4,
 "nbformat_minor": 4
}
