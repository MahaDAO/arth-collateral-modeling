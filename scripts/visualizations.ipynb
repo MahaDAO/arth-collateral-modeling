{
 "cells": [
  {
   "cell_type": "code",
   "execution_count": 1,
   "metadata": {},
   "outputs": [],
   "source": [
    "import numpy as np\n",
    "import matplotlib.pylab as pl\n",
    "import matplotlib.pyplot as plt\n",
    "import matplotlib.gridspec as gridspec"
   ]
  },
  {
   "cell_type": "code",
   "execution_count": 2,
   "metadata": {},
   "outputs": [],
   "source": [
    "%matplotlib inline"
   ]
  },
  {
   "cell_type": "code",
   "execution_count": 3,
   "metadata": {},
   "outputs": [],
   "source": [
    "def plot_multiple_assets_results(plot_data):\n",
    "    gs = gridspec.GridSpec(3, 2)\n",
    "\n",
    "    pl.figure(figsize=(10, 10))\n",
    "    pl.subplots_adjust(left=0, bottom=0, right=1, top=0.5, wspace=0.2, hspace=1)\n",
    "    \n",
    "    ax = pl.subplot(gs[0, :])\n",
    "    plt.title('Assets price')\n",
    "    for i in range(plot_data['no_of_assets']):\n",
    "        plt.plot(plot_data['date'], plot_data[f'asset_{i+1}_price'], label=plot_data[f'asset_{i+1}_name'])\n",
    "    plt.grid(axis='y', linestyle='-')\n",
    "    ax.legend(loc='upper left')\n",
    "    \n",
    "    ax = pl.subplot(gs[1, 0])\n",
    "    plt.title('Assets buying power')\n",
    "    for i in range(plot_data['no_of_assets']):\n",
    "        plt.plot(plot_data['date'], plot_data[f'asset_{i+1}_buying_power'], label=plot_data[f'asset_{i+1}_name'])\n",
    "    plt.grid(axis='y', linestyle='-')\n",
    "    ax.legend(loc='upper left')\n",
    "        \n",
    "    ax = pl.subplot(gs[1, 1])\n",
    "    plt.title('Assets held quantity')\n",
    "    for i in range(plot_data['no_of_assets']):\n",
    "        plt.plot(plot_data['date'], plot_data[f'asset_{i+1}'], label=plot_data[f'asset_{i+1}_name'])\n",
    "    plt.grid(axis='y', linestyle='-')\n",
    "    ax.legend(loc='upper left')\n",
    "\n",
    "    ax = pl.subplot(gs[2, :])\n",
    "    plt.title('Vault Buying Power')\n",
    "    plt.grid(axis='y', linestyle='-')\n",
    "    plt.plot(plot_data['date'], plot_data['vault_buying_power'], color='blue')"
   ]
  },
  {
   "cell_type": "code",
   "execution_count": 4,
   "metadata": {},
   "outputs": [],
   "source": [
    "def plot_two_assets_results(plot_data):\n",
    "    gs = gridspec.GridSpec(5, 2)\n",
    "\n",
    "    pl.figure(figsize=(8, 8))\n",
    "    pl.subplots_adjust(left=0, bottom=0, right=1, top=1, wspace=0.2, hspace=1)\n",
    "\n",
    "    ax = pl.subplot(gs[0,:]) # row 0, span all columns\n",
    "    plt.title('A Price')\n",
    "    plt.plot(plot_data['dates'], plot_data['a_price'], color='blue')\n",
    "\n",
    "    ax = pl.subplot(gs[1, 0]) # row 1, col 0\n",
    "    plt.title('A buying power')\n",
    "    plt.plot(plot_data['dates'], plot_data['a_buying_power'], color='blue')\n",
    "\n",
    "    ax = pl.subplot(gs[1, 1]) # row 1, col 1\n",
    "    plt.title('A held quantity')\n",
    "    plt.plot(plot_data['dates'], plot_data['a'], color='blue')\n",
    "\n",
    "    ax = pl.subplot(gs[2,:]) # row 2, span all columns\n",
    "    plt.title('B Price')\n",
    "    plt.plot(plot_data['dates'], plot_data['b_price'], color='blue')\n",
    "\n",
    "    ax = pl.subplot(gs[3, 0]) # row 3, col 0\n",
    "    plt.title('B buying power')\n",
    "    plt.plot(plot_data['dates'], plot_data['b_buying_power'], color='blue')\n",
    "\n",
    "    ax = pl.subplot(gs[3, 1]) # row 3, col 1\n",
    "    plt.title('B held quantity')\n",
    "    plt.plot(plot_data['dates'], plot_data['b'], color='blue')\n",
    "\n",
    "    ax = pl.subplot(gs[4, :]) # row 4, span all columns\n",
    "    plt.title('Vault Buying Power')\n",
    "    plt.plot(plot_data['dates'], plot_data['vault_buying_power'], color='blue')"
   ]
  }
 ],
 "metadata": {
  "kernelspec": {
   "display_name": "Python 3",
   "language": "python",
   "name": "python3"
  },
  "language_info": {
   "codemirror_mode": {
    "name": "ipython",
    "version": 3
   },
   "file_extension": ".py",
   "mimetype": "text/x-python",
   "name": "python",
   "nbconvert_exporter": "python",
   "pygments_lexer": "ipython3",
   "version": "3.8.3"
  }
 },
 "nbformat": 4,
 "nbformat_minor": 4
}
