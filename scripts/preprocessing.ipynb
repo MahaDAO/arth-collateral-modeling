{
 "cells": [
  {
   "cell_type": "code",
   "execution_count": 1,
   "metadata": {},
   "outputs": [],
   "source": [
    "from functools import reduce\n",
    "\n",
    "import pandas"
   ]
  },
  {
   "cell_type": "code",
   "execution_count": 3,
   "metadata": {},
   "outputs": [],
   "source": [
    "def get_df_data_within_range(df, from_date, to_date):\n",
    "    \"\"\"Get data within a time period\n",
    "\n",
    "    :param df: Dataframe with data\n",
    "    :param from_date: Date from which data is to be selected\n",
    "    :param to_date: Date till which(including) data is to be\n",
    "        selected\n",
    "    \"\"\"\n",
    "    \n",
    "    df = df[\n",
    "            (df['Date']>=from_date) & (df['Date']<=to_date)\n",
    "         ]\n",
    "    \n",
    "    df = df.sort_values(by='Date').reset_index(drop=True)\n",
    "    return df"
   ]
  },
  {
   "cell_type": "code",
   "execution_count": 4,
   "metadata": {},
   "outputs": [],
   "source": [
    "def get_df_for_multiple_assets(*dfs):\n",
    "    \"\"\"Get list of dataframes\n",
    "\n",
    "    :param df: Dataframes\n",
    "    :return: Combined data of all received dataframes\n",
    "    \"\"\"\n",
    "        \n",
    "    raw_multiple_df = reduce(lambda left, right: pd.merge(left, right, how='outer', on='Date'), dfs)\n",
    "    \n",
    "    raw_multiple_df = raw_multiple_df.sort_values(by='Date').reset_index(drop=True)   \n",
    "    raw_multiple_df = raw_multiple_df.ffill(axis=0)\n",
    "    raw_multiple_df = raw_multiple_df.sort_values(by='Date').reset_index(drop=True)\n",
    "\n",
    "    raw_multiple_df['Date'] = pd.to_datetime(raw_multiple_df['Date'])\n",
    "    raw_multiple_df = raw_multiple_df.dropna()\n",
    "    \n",
    "    raw_multiple_df = raw_multiple_df.sort_values(by='Date').reset_index(drop=True)\n",
    "    \n",
    "    return raw_multiple_df"
   ]
  },
  {
   "cell_type": "code",
   "execution_count": 5,
   "metadata": {},
   "outputs": [],
   "source": [
    "def get_multiple_assets_df_list(df):\n",
    "    \"\"\"Get list of dataframe of assets.\n",
    "\n",
    "    :param df: Dataframe with combined data of all assets\n",
    "    :return: List of all invidual dataframe for all assets\n",
    "    \"\"\"\n",
    "    assets_df_list = []\n",
    "\n",
    "    for column in df.columns:\n",
    "        if 'Price' in column:\n",
    "            assets_df_list.append(df.loc[:, ['Date', column]])\n",
    "    \n",
    "    return assets_df_list"
   ]
  }
 ],
 "metadata": {
  "kernelspec": {
   "display_name": "Python 3",
   "language": "python",
   "name": "python3"
  },
  "language_info": {
   "codemirror_mode": {
    "name": "ipython",
    "version": 3
   },
   "file_extension": ".py",
   "mimetype": "text/x-python",
   "name": "python",
   "nbconvert_exporter": "python",
   "pygments_lexer": "ipython3",
   "version": "3.8.3"
  }
 },
 "nbformat": 4,
 "nbformat_minor": 4
}